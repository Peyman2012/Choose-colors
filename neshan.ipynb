{
 "cells": [
  {
   "cell_type": "code",
   "execution_count": 2,
   "metadata": {},
   "outputs": [
    {
     "name": "stdout",
     "output_type": "stream",
     "text": [
      "Enter a char:y\n",
      "You love Yellow collor\n",
      "Enter a char:b\n",
      "You love Blue collor\n",
      "Enter a char:g\n",
      "You love Green collor\n",
      "Enter a char:e\n"
     ]
    }
   ],
   "source": [
    "loop=True\n",
    "while loop==True:\n",
    "    ch=input(\"Enter a char:\")\n",
    "    if ch[0]=='Y' or ch[0]=='y':\n",
    "        print(\"You love Yellow collor\")\n",
    "    elif ch[0]=='R' or ch[0]=='r':\n",
    "        print(\"You love Red collor\")\n",
    "    elif ch[0]=='B' or ch[0]=='b':\n",
    "        print(\"You love Blue collor\")\n",
    "    elif ch[0]=='G' or ch[0]=='g':\n",
    "        print(\"You love Green collor\")\n",
    "    elif ch[0]=='E' or ch[0]=='e':\n",
    "        loop=False\n",
    "    else:\n",
    "        print(\"No color choosen\")"
   ]
  }
 ],
 "metadata": {
  "kernelspec": {
   "display_name": "Python 3",
   "language": "python",
   "name": "python3"
  },
  "language_info": {
   "codemirror_mode": {
    "name": "ipython",
    "version": 3
   },
   "file_extension": ".py",
   "mimetype": "text/x-python",
   "name": "python",
   "nbconvert_exporter": "python",
   "pygments_lexer": "ipython3",
   "version": "3.6.13"
  }
 },
 "nbformat": 4,
 "nbformat_minor": 2
}
